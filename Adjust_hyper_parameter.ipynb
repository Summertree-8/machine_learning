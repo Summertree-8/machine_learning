{
  "nbformat": 4,
  "nbformat_minor": 0,
  "metadata": {
    "colab": {
      "name": " Adjust_hyper_parameter.ipynb",
      "provenance": [],
      "collapsed_sections": [],
      "authorship_tag": "ABX9TyNV+JgGZMRPwoNq4iHipncM",
      "include_colab_link": true
    },
    "kernelspec": {
      "name": "python3",
      "display_name": "Python 3"
    },
    "language_info": {
      "name": "python"
    }
  },
  "cells": [
    {
      "cell_type": "markdown",
      "metadata": {
        "id": "view-in-github",
        "colab_type": "text"
      },
      "source": [
        "<a href=\"https://colab.research.google.com/github/Summertree-8/machine_learning/blob/main/Adjust_hyper_parameter.ipynb\" target=\"_parent\"><img src=\"https://colab.research.google.com/assets/colab-badge.svg\" alt=\"Open In Colab\"/></a>"
      ]
    },
    {
      "cell_type": "markdown",
      "metadata": {
        "id": "qTk8icx2Q9pn"
      },
      "source": [
        "ハイパーパラメータ  \n",
        "アルゴリズムの制御  \n",
        "学習実行の前に行う  \n",
        "ホールドアウト法：2分割　学習用　テスト用  \n",
        "3分割　train validation test　→データ少ないと偏る→  \n",
        "ｋ分割交差検証  \n",
        "調整法：  \n",
        "手動、グリッドサーチ、ランダム、ベイズ最適化\n"
      ]
    },
    {
      "cell_type": "code",
      "metadata": {
        "id": "LdVE_3QeQc1N"
      },
      "source": [
        "import numpy as np\n",
        "import pandas as pd"
      ],
      "execution_count": 1,
      "outputs": []
    },
    {
      "cell_type": "code",
      "metadata": {
        "id": "C_xu2X7DQgG0"
      },
      "source": [
        "from sklearn.datasets import load_breast_cancer"
      ],
      "execution_count": 2,
      "outputs": []
    },
    {
      "cell_type": "code",
      "metadata": {
        "colab": {
          "base_uri": "https://localhost:8080/"
        },
        "id": "MuVoYe9_QgJ9",
        "outputId": "f4ca97c5-28fd-4e18-983e-b4a304097d72"
      },
      "source": [
        "dataset = load_breast_cancer()#インスタンス化\n",
        "dataset"
      ],
      "execution_count": 4,
      "outputs": [
        {
          "output_type": "execute_result",
          "data": {
            "text/plain": [
              "{'DESCR': '.. _breast_cancer_dataset:\\n\\nBreast cancer wisconsin (diagnostic) dataset\\n--------------------------------------------\\n\\n**Data Set Characteristics:**\\n\\n    :Number of Instances: 569\\n\\n    :Number of Attributes: 30 numeric, predictive attributes and the class\\n\\n    :Attribute Information:\\n        - radius (mean of distances from center to points on the perimeter)\\n        - texture (standard deviation of gray-scale values)\\n        - perimeter\\n        - area\\n        - smoothness (local variation in radius lengths)\\n        - compactness (perimeter^2 / area - 1.0)\\n        - concavity (severity of concave portions of the contour)\\n        - concave points (number of concave portions of the contour)\\n        - symmetry \\n        - fractal dimension (\"coastline approximation\" - 1)\\n\\n        The mean, standard error, and \"worst\" or largest (mean of the three\\n        largest values) of these features were computed for each image,\\n        resulting in 30 features.  For instance, field 3 is Mean Radius, field\\n        13 is Radius SE, field 23 is Worst Radius.\\n\\n        - class:\\n                - WDBC-Malignant\\n                - WDBC-Benign\\n\\n    :Summary Statistics:\\n\\n    ===================================== ====== ======\\n                                           Min    Max\\n    ===================================== ====== ======\\n    radius (mean):                        6.981  28.11\\n    texture (mean):                       9.71   39.28\\n    perimeter (mean):                     43.79  188.5\\n    area (mean):                          143.5  2501.0\\n    smoothness (mean):                    0.053  0.163\\n    compactness (mean):                   0.019  0.345\\n    concavity (mean):                     0.0    0.427\\n    concave points (mean):                0.0    0.201\\n    symmetry (mean):                      0.106  0.304\\n    fractal dimension (mean):             0.05   0.097\\n    radius (standard error):              0.112  2.873\\n    texture (standard error):             0.36   4.885\\n    perimeter (standard error):           0.757  21.98\\n    area (standard error):                6.802  542.2\\n    smoothness (standard error):          0.002  0.031\\n    compactness (standard error):         0.002  0.135\\n    concavity (standard error):           0.0    0.396\\n    concave points (standard error):      0.0    0.053\\n    symmetry (standard error):            0.008  0.079\\n    fractal dimension (standard error):   0.001  0.03\\n    radius (worst):                       7.93   36.04\\n    texture (worst):                      12.02  49.54\\n    perimeter (worst):                    50.41  251.2\\n    area (worst):                         185.2  4254.0\\n    smoothness (worst):                   0.071  0.223\\n    compactness (worst):                  0.027  1.058\\n    concavity (worst):                    0.0    1.252\\n    concave points (worst):               0.0    0.291\\n    symmetry (worst):                     0.156  0.664\\n    fractal dimension (worst):            0.055  0.208\\n    ===================================== ====== ======\\n\\n    :Missing Attribute Values: None\\n\\n    :Class Distribution: 212 - Malignant, 357 - Benign\\n\\n    :Creator:  Dr. William H. Wolberg, W. Nick Street, Olvi L. Mangasarian\\n\\n    :Donor: Nick Street\\n\\n    :Date: November, 1995\\n\\nThis is a copy of UCI ML Breast Cancer Wisconsin (Diagnostic) datasets.\\nhttps://goo.gl/U2Uwz2\\n\\nFeatures are computed from a digitized image of a fine needle\\naspirate (FNA) of a breast mass.  They describe\\ncharacteristics of the cell nuclei present in the image.\\n\\nSeparating plane described above was obtained using\\nMultisurface Method-Tree (MSM-T) [K. P. Bennett, \"Decision Tree\\nConstruction Via Linear Programming.\" Proceedings of the 4th\\nMidwest Artificial Intelligence and Cognitive Science Society,\\npp. 97-101, 1992], a classification method which uses linear\\nprogramming to construct a decision tree.  Relevant features\\nwere selected using an exhaustive search in the space of 1-4\\nfeatures and 1-3 separating planes.\\n\\nThe actual linear program used to obtain the separating plane\\nin the 3-dimensional space is that described in:\\n[K. P. Bennett and O. L. Mangasarian: \"Robust Linear\\nProgramming Discrimination of Two Linearly Inseparable Sets\",\\nOptimization Methods and Software 1, 1992, 23-34].\\n\\nThis database is also available through the UW CS ftp server:\\n\\nftp ftp.cs.wisc.edu\\ncd math-prog/cpo-dataset/machine-learn/WDBC/\\n\\n.. topic:: References\\n\\n   - W.N. Street, W.H. Wolberg and O.L. Mangasarian. Nuclear feature extraction \\n     for breast tumor diagnosis. IS&T/SPIE 1993 International Symposium on \\n     Electronic Imaging: Science and Technology, volume 1905, pages 861-870,\\n     San Jose, CA, 1993.\\n   - O.L. Mangasarian, W.N. Street and W.H. Wolberg. Breast cancer diagnosis and \\n     prognosis via linear programming. Operations Research, 43(4), pages 570-577, \\n     July-August 1995.\\n   - W.H. Wolberg, W.N. Street, and O.L. Mangasarian. Machine learning techniques\\n     to diagnose breast cancer from fine-needle aspirates. Cancer Letters 77 (1994) \\n     163-171.',\n",
              " 'data': array([[1.799e+01, 1.038e+01, 1.228e+02, ..., 2.654e-01, 4.601e-01,\n",
              "         1.189e-01],\n",
              "        [2.057e+01, 1.777e+01, 1.329e+02, ..., 1.860e-01, 2.750e-01,\n",
              "         8.902e-02],\n",
              "        [1.969e+01, 2.125e+01, 1.300e+02, ..., 2.430e-01, 3.613e-01,\n",
              "         8.758e-02],\n",
              "        ...,\n",
              "        [1.660e+01, 2.808e+01, 1.083e+02, ..., 1.418e-01, 2.218e-01,\n",
              "         7.820e-02],\n",
              "        [2.060e+01, 2.933e+01, 1.401e+02, ..., 2.650e-01, 4.087e-01,\n",
              "         1.240e-01],\n",
              "        [7.760e+00, 2.454e+01, 4.792e+01, ..., 0.000e+00, 2.871e-01,\n",
              "         7.039e-02]]),\n",
              " 'feature_names': array(['mean radius', 'mean texture', 'mean perimeter', 'mean area',\n",
              "        'mean smoothness', 'mean compactness', 'mean concavity',\n",
              "        'mean concave points', 'mean symmetry', 'mean fractal dimension',\n",
              "        'radius error', 'texture error', 'perimeter error', 'area error',\n",
              "        'smoothness error', 'compactness error', 'concavity error',\n",
              "        'concave points error', 'symmetry error',\n",
              "        'fractal dimension error', 'worst radius', 'worst texture',\n",
              "        'worst perimeter', 'worst area', 'worst smoothness',\n",
              "        'worst compactness', 'worst concavity', 'worst concave points',\n",
              "        'worst symmetry', 'worst fractal dimension'], dtype='<U23'),\n",
              " 'filename': '/usr/local/lib/python3.7/dist-packages/sklearn/datasets/data/breast_cancer.csv',\n",
              " 'target': array([0, 0, 0, 0, 0, 0, 0, 0, 0, 0, 0, 0, 0, 0, 0, 0, 0, 0, 0, 1, 1, 1,\n",
              "        0, 0, 0, 0, 0, 0, 0, 0, 0, 0, 0, 0, 0, 0, 0, 1, 0, 0, 0, 0, 0, 0,\n",
              "        0, 0, 1, 0, 1, 1, 1, 1, 1, 0, 0, 1, 0, 0, 1, 1, 1, 1, 0, 1, 0, 0,\n",
              "        1, 1, 1, 1, 0, 1, 0, 0, 1, 0, 1, 0, 0, 1, 1, 1, 0, 0, 1, 0, 0, 0,\n",
              "        1, 1, 1, 0, 1, 1, 0, 0, 1, 1, 1, 0, 0, 1, 1, 1, 1, 0, 1, 1, 0, 1,\n",
              "        1, 1, 1, 1, 1, 1, 1, 0, 0, 0, 1, 0, 0, 1, 1, 1, 0, 0, 1, 0, 1, 0,\n",
              "        0, 1, 0, 0, 1, 1, 0, 1, 1, 0, 1, 1, 1, 1, 0, 1, 1, 1, 1, 1, 1, 1,\n",
              "        1, 1, 0, 1, 1, 1, 1, 0, 0, 1, 0, 1, 1, 0, 0, 1, 1, 0, 0, 1, 1, 1,\n",
              "        1, 0, 1, 1, 0, 0, 0, 1, 0, 1, 0, 1, 1, 1, 0, 1, 1, 0, 0, 1, 0, 0,\n",
              "        0, 0, 1, 0, 0, 0, 1, 0, 1, 0, 1, 1, 0, 1, 0, 0, 0, 0, 1, 1, 0, 0,\n",
              "        1, 1, 1, 0, 1, 1, 1, 1, 1, 0, 0, 1, 1, 0, 1, 1, 0, 0, 1, 0, 1, 1,\n",
              "        1, 1, 0, 1, 1, 1, 1, 1, 0, 1, 0, 0, 0, 0, 0, 0, 0, 0, 0, 0, 0, 0,\n",
              "        0, 0, 1, 1, 1, 1, 1, 1, 0, 1, 0, 1, 1, 0, 1, 1, 0, 1, 0, 0, 1, 1,\n",
              "        1, 1, 1, 1, 1, 1, 1, 1, 1, 1, 1, 0, 1, 1, 0, 1, 0, 1, 1, 1, 1, 1,\n",
              "        1, 1, 1, 1, 1, 1, 1, 1, 1, 0, 1, 1, 1, 0, 1, 0, 1, 1, 1, 1, 0, 0,\n",
              "        0, 1, 1, 1, 1, 0, 1, 0, 1, 0, 1, 1, 1, 0, 1, 1, 1, 1, 1, 1, 1, 0,\n",
              "        0, 0, 1, 1, 1, 1, 1, 1, 1, 1, 1, 1, 1, 0, 0, 1, 0, 0, 0, 1, 0, 0,\n",
              "        1, 1, 1, 1, 1, 0, 1, 1, 1, 1, 1, 0, 1, 1, 1, 0, 1, 1, 0, 0, 1, 1,\n",
              "        1, 1, 1, 1, 0, 1, 1, 1, 1, 1, 1, 1, 0, 1, 1, 1, 1, 1, 0, 1, 1, 0,\n",
              "        1, 1, 1, 1, 1, 1, 1, 1, 1, 1, 1, 1, 0, 1, 0, 0, 1, 0, 1, 1, 1, 1,\n",
              "        1, 0, 1, 1, 0, 1, 0, 1, 1, 0, 1, 0, 1, 1, 1, 1, 1, 1, 1, 1, 0, 0,\n",
              "        1, 1, 1, 1, 1, 1, 0, 1, 1, 1, 1, 1, 1, 1, 1, 1, 1, 0, 1, 1, 1, 1,\n",
              "        1, 1, 1, 0, 1, 0, 1, 1, 0, 1, 1, 1, 1, 1, 0, 0, 1, 0, 1, 0, 1, 1,\n",
              "        1, 1, 1, 0, 1, 1, 0, 1, 0, 1, 0, 0, 1, 1, 1, 0, 1, 1, 1, 1, 1, 1,\n",
              "        1, 1, 1, 1, 1, 0, 1, 0, 0, 1, 1, 1, 1, 1, 1, 1, 1, 1, 1, 1, 1, 1,\n",
              "        1, 1, 1, 1, 1, 1, 1, 1, 1, 1, 1, 1, 0, 0, 0, 0, 0, 0, 1]),\n",
              " 'target_names': array(['malignant', 'benign'], dtype='<U9')}"
            ]
          },
          "metadata": {},
          "execution_count": 4
        }
      ]
    },
    {
      "cell_type": "code",
      "metadata": {
        "id": "AGdMBZLjQgNy"
      },
      "source": [
        "x = dataset.data\n",
        "t = dataset.target"
      ],
      "execution_count": 7,
      "outputs": []
    },
    {
      "cell_type": "code",
      "metadata": {
        "colab": {
          "base_uri": "https://localhost:8080/"
        },
        "id": "TeUaWdrrQgSW",
        "outputId": "3d37a0b3-7167-47d7-adf8-45f010b48649"
      },
      "source": [
        "x.shape, t.shape #データ数"
      ],
      "execution_count": 8,
      "outputs": [
        {
          "output_type": "execute_result",
          "data": {
            "text/plain": [
              "((569, 30), (569,))"
            ]
          },
          "metadata": {},
          "execution_count": 8
        }
      ]
    },
    {
      "cell_type": "code",
      "metadata": {
        "id": "SfEHftluQgX9"
      },
      "source": [
        "from sklearn.model_selection import train_test_split"
      ],
      "execution_count": 9,
      "outputs": []
    },
    {
      "cell_type": "code",
      "metadata": {
        "id": "8vm4LBP9QggK"
      },
      "source": [
        "x_train_val, x_test, t_train_val, t_test = train_test_split(x, t, test_size=0.2, random_state=1)#分割"
      ],
      "execution_count": 11,
      "outputs": []
    },
    {
      "cell_type": "code",
      "metadata": {
        "colab": {
          "base_uri": "https://localhost:8080/"
        },
        "id": "G1UuoiIqQgj-",
        "outputId": "a477ec94-312d-4d4b-8316-51fcf2f5e59c"
      },
      "source": [
        "x_train_val.shape"
      ],
      "execution_count": 12,
      "outputs": [
        {
          "output_type": "execute_result",
          "data": {
            "text/plain": [
              "(455, 30)"
            ]
          },
          "metadata": {},
          "execution_count": 12
        }
      ]
    },
    {
      "cell_type": "code",
      "metadata": {
        "id": "dgccGJGSQgmR"
      },
      "source": [
        "x_train, x_val, t_train, t_val = train_test_split(x_train_val, t_train_val, test_size=0.3, random_state=1)#分割"
      ],
      "execution_count": 13,
      "outputs": []
    },
    {
      "cell_type": "code",
      "metadata": {
        "colab": {
          "base_uri": "https://localhost:8080/"
        },
        "id": "8EXH3txUQgqX",
        "outputId": "78dde44a-1142-420c-fffd-94dc9efa3cb0"
      },
      "source": [
        "x_train.shape, x_val.shape, x_test.shape"
      ],
      "execution_count": 16,
      "outputs": [
        {
          "output_type": "execute_result",
          "data": {
            "text/plain": [
              "((318, 30), (137, 30), (114, 30))"
            ]
          },
          "metadata": {},
          "execution_count": 16
        }
      ]
    },
    {
      "cell_type": "markdown",
      "metadata": {
        "id": "3QU3NWObUncs"
      },
      "source": [
        "決定木の実装"
      ]
    },
    {
      "cell_type": "code",
      "metadata": {
        "id": "9M29EVL7Qgta"
      },
      "source": [
        "from sklearn.tree import DecisionTreeClassifier"
      ],
      "execution_count": 17,
      "outputs": []
    },
    {
      "cell_type": "code",
      "metadata": {
        "id": "DQ6IKq19QgwU"
      },
      "source": [
        "dtree = DecisionTreeClassifier(random_state=0)"
      ],
      "execution_count": 23,
      "outputs": []
    },
    {
      "cell_type": "code",
      "metadata": {
        "colab": {
          "base_uri": "https://localhost:8080/"
        },
        "id": "z-7FQwutQgz1",
        "outputId": "fcad7f28-b4c6-402a-8e3f-af7bd7615ddc"
      },
      "source": [
        "dtree.fit(x_train, t_train)"
      ],
      "execution_count": 24,
      "outputs": [
        {
          "output_type": "execute_result",
          "data": {
            "text/plain": [
              "DecisionTreeClassifier(ccp_alpha=0.0, class_weight=None, criterion='gini',\n",
              "                       max_depth=None, max_features=None, max_leaf_nodes=None,\n",
              "                       min_impurity_decrease=0.0, min_impurity_split=None,\n",
              "                       min_samples_leaf=1, min_samples_split=2,\n",
              "                       min_weight_fraction_leaf=0.0, presort='deprecated',\n",
              "                       random_state=0, splitter='best')"
            ]
          },
          "metadata": {},
          "execution_count": 24
        }
      ]
    },
    {
      "cell_type": "code",
      "metadata": {
        "colab": {
          "base_uri": "https://localhost:8080/"
        },
        "id": "w_oRr-LaQg3L",
        "outputId": "109a89bb-8704-48bf-8964-9756da67bd2b"
      },
      "source": [
        "DecisionTreeClassifier(random_state=0)"
      ],
      "execution_count": 25,
      "outputs": [
        {
          "output_type": "execute_result",
          "data": {
            "text/plain": [
              "DecisionTreeClassifier(ccp_alpha=0.0, class_weight=None, criterion='gini',\n",
              "                       max_depth=None, max_features=None, max_leaf_nodes=None,\n",
              "                       min_impurity_decrease=0.0, min_impurity_split=None,\n",
              "                       min_samples_leaf=1, min_samples_split=2,\n",
              "                       min_weight_fraction_leaf=0.0, presort='deprecated',\n",
              "                       random_state=0, splitter='best')"
            ]
          },
          "metadata": {},
          "execution_count": 25
        }
      ]
    },
    {
      "cell_type": "code",
      "metadata": {
        "colab": {
          "base_uri": "https://localhost:8080/"
        },
        "id": "3tmZsYkMQg6W",
        "outputId": "b1f1f65d-1206-42cd-eefc-2e309b7d4277"
      },
      "source": [
        "print(f'train score: {dtree.score(x_train, t_train)}')\n",
        "print(f'val score: {dtree.score(x_val, t_val)}')"
      ],
      "execution_count": 26,
      "outputs": [
        {
          "output_type": "stream",
          "text": [
            "train score: 1.0\n",
            "val score: 0.927007299270073\n"
          ],
          "name": "stdout"
        }
      ]
    },
    {
      "cell_type": "markdown",
      "metadata": {
        "id": "Er_wMdO0VuHZ"
      },
      "source": [
        "若干過学習"
      ]
    },
    {
      "cell_type": "code",
      "metadata": {
        "id": "_-2WlTSTQg-t"
      },
      "source": [
        "dtree = DecisionTreeClassifier(max_depth=10, min_samples_split=30, random_state=0)#add hyper parameter"
      ],
      "execution_count": 28,
      "outputs": []
    },
    {
      "cell_type": "code",
      "metadata": {
        "colab": {
          "base_uri": "https://localhost:8080/"
        },
        "id": "fc5S85yUQhFm",
        "outputId": "d3e4a121-b2c7-4575-a940-8b5d848e2394"
      },
      "source": [
        "dtree.fit(x_train, t_train)\n",
        "DecisionTreeClassifier(random_state=0)\n",
        "print(f'train score: {dtree.score(x_train, t_train)}')\n",
        "print(f'val score: {dtree.score(x_val, t_val)}')"
      ],
      "execution_count": 29,
      "outputs": [
        {
          "output_type": "stream",
          "text": [
            "train score: 0.9308176100628931\n",
            "val score: 0.9562043795620438\n"
          ],
          "name": "stdout"
        }
      ]
    },
    {
      "cell_type": "code",
      "metadata": {
        "colab": {
          "base_uri": "https://localhost:8080/"
        },
        "id": "bUhUaX79QhJO",
        "outputId": "6c774121-a590-4186-83aa-22ef6081db95"
      },
      "source": [
        "print(f'test score: {dtree.score(x_test, t_test)}')"
      ],
      "execution_count": 30,
      "outputs": [
        {
          "output_type": "stream",
          "text": [
            "test score: 0.9298245614035088\n"
          ],
          "name": "stdout"
        }
      ]
    },
    {
      "cell_type": "markdown",
      "metadata": {
        "id": "C9BRw51BWVbB"
      },
      "source": [
        "手動はやはり効率が悪い→グリッドサーチ  \n",
        "網羅できるが時間かかる可能性あり"
      ]
    },
    {
      "cell_type": "code",
      "metadata": {
        "id": "-dJvJIdTQhMJ"
      },
      "source": [
        "from sklearn.model_selection import GridSearchCV"
      ],
      "execution_count": 31,
      "outputs": []
    },
    {
      "cell_type": "markdown",
      "metadata": {
        "id": "bnzhngnlXmN_"
      },
      "source": [
        "estimator 学習に使用するもでる  \n",
        "param_grid パイパーパラメータを探索する範囲  \n",
        "CV ｋの値"
      ]
    },
    {
      "cell_type": "code",
      "metadata": {
        "id": "Gu_uw7KUQhQF"
      },
      "source": [
        "estimator = DecisionTreeClassifier(random_state=0)"
      ],
      "execution_count": 32,
      "outputs": []
    },
    {
      "cell_type": "code",
      "metadata": {
        "id": "BZFmhMxsQhTP"
      },
      "source": [
        "param_grid = [{\n",
        "    'max_depth':[3,20,50],\n",
        "    'min_samples_split':[3,20,30]\n",
        "}]"
      ],
      "execution_count": 36,
      "outputs": []
    },
    {
      "cell_type": "code",
      "metadata": {
        "id": "PaSq1KTIQhWu"
      },
      "source": [
        "cv = 5"
      ],
      "execution_count": 34,
      "outputs": []
    },
    {
      "cell_type": "code",
      "metadata": {
        "id": "uiUP09r1Qhan"
      },
      "source": [
        "tuned_model = GridSearchCV(estimator=estimator,\n",
        "                           param_grid=param_grid,\n",
        "                           cv=cv,\n",
        "                           return_train_score=False)"
      ],
      "execution_count": 37,
      "outputs": []
    },
    {
      "cell_type": "code",
      "metadata": {
        "colab": {
          "base_uri": "https://localhost:8080/"
        },
        "id": "UZ-eVXksQhdU",
        "outputId": "e6f3c5bd-37e9-43b1-d962-5ae7f9b2fb51"
      },
      "source": [
        "tuned_model.fit(x_train_val, t_train_val)"
      ],
      "execution_count": 38,
      "outputs": [
        {
          "output_type": "execute_result",
          "data": {
            "text/plain": [
              "GridSearchCV(cv=5, error_score=nan,\n",
              "             estimator=DecisionTreeClassifier(ccp_alpha=0.0, class_weight=None,\n",
              "                                              criterion='gini', max_depth=None,\n",
              "                                              max_features=None,\n",
              "                                              max_leaf_nodes=None,\n",
              "                                              min_impurity_decrease=0.0,\n",
              "                                              min_impurity_split=None,\n",
              "                                              min_samples_leaf=1,\n",
              "                                              min_samples_split=2,\n",
              "                                              min_weight_fraction_leaf=0.0,\n",
              "                                              presort='deprecated',\n",
              "                                              random_state=0, splitter='best'),\n",
              "             iid='deprecated', n_jobs=None,\n",
              "             param_grid=[{'max_depth': [3, 20, 50],\n",
              "                          'min_samples_split': [3, 20, 30]}],\n",
              "             pre_dispatch='2*n_jobs', refit=True, return_train_score=False,\n",
              "             scoring=None, verbose=0)"
            ]
          },
          "metadata": {},
          "execution_count": 38
        }
      ]
    },
    {
      "cell_type": "code",
      "metadata": {
        "id": "YCvIqq_UmC_O"
      },
      "source": [
        "#学習結果：cv_results_  →pandasに変換して表示"
      ],
      "execution_count": null,
      "outputs": []
    },
    {
      "cell_type": "code",
      "metadata": {
        "colab": {
          "base_uri": "https://localhost:8080/",
          "height": 568
        },
        "id": "_2NjXjv0Qhg4",
        "outputId": "178dec4d-cf61-4fe0-b620-a689d1441852"
      },
      "source": [
        "pd.DataFrame(tuned_model.cv_results_).T"
      ],
      "execution_count": 42,
      "outputs": [
        {
          "output_type": "execute_result",
          "data": {
            "text/html": [
              "<div>\n",
              "<style scoped>\n",
              "    .dataframe tbody tr th:only-of-type {\n",
              "        vertical-align: middle;\n",
              "    }\n",
              "\n",
              "    .dataframe tbody tr th {\n",
              "        vertical-align: top;\n",
              "    }\n",
              "\n",
              "    .dataframe thead th {\n",
              "        text-align: right;\n",
              "    }\n",
              "</style>\n",
              "<table border=\"1\" class=\"dataframe\">\n",
              "  <thead>\n",
              "    <tr style=\"text-align: right;\">\n",
              "      <th></th>\n",
              "      <th>0</th>\n",
              "      <th>1</th>\n",
              "      <th>2</th>\n",
              "      <th>3</th>\n",
              "      <th>4</th>\n",
              "      <th>5</th>\n",
              "      <th>6</th>\n",
              "      <th>7</th>\n",
              "      <th>8</th>\n",
              "    </tr>\n",
              "  </thead>\n",
              "  <tbody>\n",
              "    <tr>\n",
              "      <th>mean_fit_time</th>\n",
              "      <td>0.00433264</td>\n",
              "      <td>0.00409703</td>\n",
              "      <td>0.00405569</td>\n",
              "      <td>0.00479622</td>\n",
              "      <td>0.00585876</td>\n",
              "      <td>0.00573769</td>\n",
              "      <td>0.00479269</td>\n",
              "      <td>0.00462556</td>\n",
              "      <td>0.00471678</td>\n",
              "    </tr>\n",
              "    <tr>\n",
              "      <th>std_fit_time</th>\n",
              "      <td>0.000444424</td>\n",
              "      <td>0.000268574</td>\n",
              "      <td>9.83991e-05</td>\n",
              "      <td>0.000237287</td>\n",
              "      <td>0.00127195</td>\n",
              "      <td>0.000994887</td>\n",
              "      <td>0.00015375</td>\n",
              "      <td>0.000352205</td>\n",
              "      <td>0.000286817</td>\n",
              "    </tr>\n",
              "    <tr>\n",
              "      <th>mean_score_time</th>\n",
              "      <td>0.000588942</td>\n",
              "      <td>0.000425339</td>\n",
              "      <td>0.000464344</td>\n",
              "      <td>0.000467873</td>\n",
              "      <td>0.000471973</td>\n",
              "      <td>0.000471926</td>\n",
              "      <td>0.000450563</td>\n",
              "      <td>0.000391388</td>\n",
              "      <td>0.000467873</td>\n",
              "    </tr>\n",
              "    <tr>\n",
              "      <th>std_score_time</th>\n",
              "      <td>0.000231217</td>\n",
              "      <td>2.27951e-05</td>\n",
              "      <td>5.10507e-05</td>\n",
              "      <td>2.18569e-05</td>\n",
              "      <td>2.46011e-05</td>\n",
              "      <td>0.000100484</td>\n",
              "      <td>4.83686e-05</td>\n",
              "      <td>2.9216e-05</td>\n",
              "      <td>8.8975e-05</td>\n",
              "    </tr>\n",
              "    <tr>\n",
              "      <th>param_max_depth</th>\n",
              "      <td>3</td>\n",
              "      <td>3</td>\n",
              "      <td>3</td>\n",
              "      <td>20</td>\n",
              "      <td>20</td>\n",
              "      <td>20</td>\n",
              "      <td>50</td>\n",
              "      <td>50</td>\n",
              "      <td>50</td>\n",
              "    </tr>\n",
              "    <tr>\n",
              "      <th>param_min_samples_split</th>\n",
              "      <td>3</td>\n",
              "      <td>20</td>\n",
              "      <td>30</td>\n",
              "      <td>3</td>\n",
              "      <td>20</td>\n",
              "      <td>30</td>\n",
              "      <td>3</td>\n",
              "      <td>20</td>\n",
              "      <td>30</td>\n",
              "    </tr>\n",
              "    <tr>\n",
              "      <th>params</th>\n",
              "      <td>{'max_depth': 3, 'min_samples_split': 3}</td>\n",
              "      <td>{'max_depth': 3, 'min_samples_split': 20}</td>\n",
              "      <td>{'max_depth': 3, 'min_samples_split': 30}</td>\n",
              "      <td>{'max_depth': 20, 'min_samples_split': 3}</td>\n",
              "      <td>{'max_depth': 20, 'min_samples_split': 20}</td>\n",
              "      <td>{'max_depth': 20, 'min_samples_split': 30}</td>\n",
              "      <td>{'max_depth': 50, 'min_samples_split': 3}</td>\n",
              "      <td>{'max_depth': 50, 'min_samples_split': 20}</td>\n",
              "      <td>{'max_depth': 50, 'min_samples_split': 30}</td>\n",
              "    </tr>\n",
              "    <tr>\n",
              "      <th>split0_test_score</th>\n",
              "      <td>0.923077</td>\n",
              "      <td>0.912088</td>\n",
              "      <td>0.912088</td>\n",
              "      <td>0.956044</td>\n",
              "      <td>0.912088</td>\n",
              "      <td>0.912088</td>\n",
              "      <td>0.956044</td>\n",
              "      <td>0.912088</td>\n",
              "      <td>0.912088</td>\n",
              "    </tr>\n",
              "    <tr>\n",
              "      <th>split1_test_score</th>\n",
              "      <td>0.901099</td>\n",
              "      <td>0.901099</td>\n",
              "      <td>0.901099</td>\n",
              "      <td>0.912088</td>\n",
              "      <td>0.901099</td>\n",
              "      <td>0.901099</td>\n",
              "      <td>0.912088</td>\n",
              "      <td>0.901099</td>\n",
              "      <td>0.901099</td>\n",
              "    </tr>\n",
              "    <tr>\n",
              "      <th>split2_test_score</th>\n",
              "      <td>0.934066</td>\n",
              "      <td>0.934066</td>\n",
              "      <td>0.934066</td>\n",
              "      <td>0.923077</td>\n",
              "      <td>0.934066</td>\n",
              "      <td>0.934066</td>\n",
              "      <td>0.923077</td>\n",
              "      <td>0.934066</td>\n",
              "      <td>0.934066</td>\n",
              "    </tr>\n",
              "    <tr>\n",
              "      <th>split3_test_score</th>\n",
              "      <td>0.945055</td>\n",
              "      <td>0.934066</td>\n",
              "      <td>0.934066</td>\n",
              "      <td>0.967033</td>\n",
              "      <td>0.945055</td>\n",
              "      <td>0.945055</td>\n",
              "      <td>0.967033</td>\n",
              "      <td>0.945055</td>\n",
              "      <td>0.945055</td>\n",
              "    </tr>\n",
              "    <tr>\n",
              "      <th>split4_test_score</th>\n",
              "      <td>0.901099</td>\n",
              "      <td>0.901099</td>\n",
              "      <td>0.901099</td>\n",
              "      <td>0.956044</td>\n",
              "      <td>0.934066</td>\n",
              "      <td>0.901099</td>\n",
              "      <td>0.956044</td>\n",
              "      <td>0.934066</td>\n",
              "      <td>0.901099</td>\n",
              "    </tr>\n",
              "    <tr>\n",
              "      <th>mean_test_score</th>\n",
              "      <td>0.920879</td>\n",
              "      <td>0.916484</td>\n",
              "      <td>0.916484</td>\n",
              "      <td>0.942857</td>\n",
              "      <td>0.925275</td>\n",
              "      <td>0.918681</td>\n",
              "      <td>0.942857</td>\n",
              "      <td>0.925275</td>\n",
              "      <td>0.918681</td>\n",
              "    </tr>\n",
              "    <tr>\n",
              "      <th>std_test_score</th>\n",
              "      <td>0.0175824</td>\n",
              "      <td>0.0149062</td>\n",
              "      <td>0.0149062</td>\n",
              "      <td>0.0213085</td>\n",
              "      <td>0.0161505</td>\n",
              "      <td>0.017855</td>\n",
              "      <td>0.0213085</td>\n",
              "      <td>0.0161505</td>\n",
              "      <td>0.017855</td>\n",
              "    </tr>\n",
              "    <tr>\n",
              "      <th>rank_test_score</th>\n",
              "      <td>5</td>\n",
              "      <td>8</td>\n",
              "      <td>8</td>\n",
              "      <td>1</td>\n",
              "      <td>3</td>\n",
              "      <td>6</td>\n",
              "      <td>1</td>\n",
              "      <td>3</td>\n",
              "      <td>6</td>\n",
              "    </tr>\n",
              "  </tbody>\n",
              "</table>\n",
              "</div>"
            ],
            "text/plain": [
              "                                                                0  ...                                           8\n",
              "mean_fit_time                                          0.00433264  ...                                  0.00471678\n",
              "std_fit_time                                          0.000444424  ...                                 0.000286817\n",
              "mean_score_time                                       0.000588942  ...                                 0.000467873\n",
              "std_score_time                                        0.000231217  ...                                  8.8975e-05\n",
              "param_max_depth                                                 3  ...                                          50\n",
              "param_min_samples_split                                         3  ...                                          30\n",
              "params                   {'max_depth': 3, 'min_samples_split': 3}  ...  {'max_depth': 50, 'min_samples_split': 30}\n",
              "split0_test_score                                        0.923077  ...                                    0.912088\n",
              "split1_test_score                                        0.901099  ...                                    0.901099\n",
              "split2_test_score                                        0.934066  ...                                    0.934066\n",
              "split3_test_score                                        0.945055  ...                                    0.945055\n",
              "split4_test_score                                        0.901099  ...                                    0.901099\n",
              "mean_test_score                                          0.920879  ...                                    0.918681\n",
              "std_test_score                                          0.0175824  ...                                    0.017855\n",
              "rank_test_score                                                 5  ...                                           6\n",
              "\n",
              "[15 rows x 9 columns]"
            ]
          },
          "metadata": {},
          "execution_count": 42
        }
      ]
    },
    {
      "cell_type": "markdown",
      "metadata": {
        "id": "QCGeq50eoHwi"
      },
      "source": [
        "mean_fit_time　学習時間平均  \n",
        "std_fit_time　学習時間標準偏差  \n",
        "mean_score_time　検証時間平均  \n",
        "std_score_time　検証時間標準偏差  \n",
        "param_max_depth\t\n",
        "param_min_samples_split\t\n",
        "params  \n",
        "split0_test_score  \n",
        "split1_test_score\t \n",
        "split2_test_score  \n",
        "split3_test_score\t  \n",
        "split4_test_score  \n",
        "mean_test_score　検証用データに対する予測精度の平均\t\n",
        "std_test_score\t検証用データに対する予測精度の標準偏差\t\n",
        "rank_test_score　検証用データに対する予測精度のランク  \n",
        "\n",
        "・３のハイパーパラメータの組み合わせの精度が一番よさそう\n",
        "→さっきより狭い範囲で調整する\n"
      ]
    },
    {
      "cell_type": "code",
      "metadata": {
        "colab": {
          "base_uri": "https://localhost:8080/",
          "height": 568
        },
        "id": "xFbB6oI5QhkZ",
        "outputId": "49e5cd10-af34-414d-ca4e-3b20d646029d"
      },
      "source": [
        "param_grid = [{\n",
        "    'max_depth':[5,10,15],\n",
        "    'min_samples_split':[10,12,15]\n",
        "}]\n",
        "cv = 5\n",
        "tuned_model = GridSearchCV(estimator=estimator,\n",
        "                           param_grid=param_grid,\n",
        "                           cv=cv,\n",
        "                           return_train_score=False)\n",
        "tuned_model.fit(x_train_val, t_train_val)\n",
        "pd.DataFrame(tuned_model.cv_results_).T"
      ],
      "execution_count": 43,
      "outputs": [
        {
          "output_type": "execute_result",
          "data": {
            "text/html": [
              "<div>\n",
              "<style scoped>\n",
              "    .dataframe tbody tr th:only-of-type {\n",
              "        vertical-align: middle;\n",
              "    }\n",
              "\n",
              "    .dataframe tbody tr th {\n",
              "        vertical-align: top;\n",
              "    }\n",
              "\n",
              "    .dataframe thead th {\n",
              "        text-align: right;\n",
              "    }\n",
              "</style>\n",
              "<table border=\"1\" class=\"dataframe\">\n",
              "  <thead>\n",
              "    <tr style=\"text-align: right;\">\n",
              "      <th></th>\n",
              "      <th>0</th>\n",
              "      <th>1</th>\n",
              "      <th>2</th>\n",
              "      <th>3</th>\n",
              "      <th>4</th>\n",
              "      <th>5</th>\n",
              "      <th>6</th>\n",
              "      <th>7</th>\n",
              "      <th>8</th>\n",
              "    </tr>\n",
              "  </thead>\n",
              "  <tbody>\n",
              "    <tr>\n",
              "      <th>mean_fit_time</th>\n",
              "      <td>0.00518703</td>\n",
              "      <td>0.00460649</td>\n",
              "      <td>0.00481563</td>\n",
              "      <td>0.00461802</td>\n",
              "      <td>0.00475297</td>\n",
              "      <td>0.00458298</td>\n",
              "      <td>0.00471101</td>\n",
              "      <td>0.00467267</td>\n",
              "      <td>0.00466342</td>\n",
              "    </tr>\n",
              "    <tr>\n",
              "      <th>std_fit_time</th>\n",
              "      <td>0.00108244</td>\n",
              "      <td>0.000224448</td>\n",
              "      <td>0.000216894</td>\n",
              "      <td>0.000192644</td>\n",
              "      <td>0.000387937</td>\n",
              "      <td>0.000259372</td>\n",
              "      <td>0.000229986</td>\n",
              "      <td>0.000251974</td>\n",
              "      <td>0.000156175</td>\n",
              "    </tr>\n",
              "    <tr>\n",
              "      <th>mean_score_time</th>\n",
              "      <td>0.000456476</td>\n",
              "      <td>0.000399065</td>\n",
              "      <td>0.000500107</td>\n",
              "      <td>0.000395489</td>\n",
              "      <td>0.000432396</td>\n",
              "      <td>0.000400114</td>\n",
              "      <td>0.000484848</td>\n",
              "      <td>0.000420952</td>\n",
              "      <td>0.000503492</td>\n",
              "    </tr>\n",
              "    <tr>\n",
              "      <th>std_score_time</th>\n",
              "      <td>5.49549e-05</td>\n",
              "      <td>2.44833e-05</td>\n",
              "      <td>7.46948e-05</td>\n",
              "      <td>1.50732e-05</td>\n",
              "      <td>3.00133e-05</td>\n",
              "      <td>5.9047e-06</td>\n",
              "      <td>9.81039e-05</td>\n",
              "      <td>1.46262e-05</td>\n",
              "      <td>0.00011016</td>\n",
              "    </tr>\n",
              "    <tr>\n",
              "      <th>param_max_depth</th>\n",
              "      <td>5</td>\n",
              "      <td>5</td>\n",
              "      <td>5</td>\n",
              "      <td>10</td>\n",
              "      <td>10</td>\n",
              "      <td>10</td>\n",
              "      <td>15</td>\n",
              "      <td>15</td>\n",
              "      <td>15</td>\n",
              "    </tr>\n",
              "    <tr>\n",
              "      <th>param_min_samples_split</th>\n",
              "      <td>10</td>\n",
              "      <td>12</td>\n",
              "      <td>15</td>\n",
              "      <td>10</td>\n",
              "      <td>12</td>\n",
              "      <td>15</td>\n",
              "      <td>10</td>\n",
              "      <td>12</td>\n",
              "      <td>15</td>\n",
              "    </tr>\n",
              "    <tr>\n",
              "      <th>params</th>\n",
              "      <td>{'max_depth': 5, 'min_samples_split': 10}</td>\n",
              "      <td>{'max_depth': 5, 'min_samples_split': 12}</td>\n",
              "      <td>{'max_depth': 5, 'min_samples_split': 15}</td>\n",
              "      <td>{'max_depth': 10, 'min_samples_split': 10}</td>\n",
              "      <td>{'max_depth': 10, 'min_samples_split': 12}</td>\n",
              "      <td>{'max_depth': 10, 'min_samples_split': 15}</td>\n",
              "      <td>{'max_depth': 15, 'min_samples_split': 10}</td>\n",
              "      <td>{'max_depth': 15, 'min_samples_split': 12}</td>\n",
              "      <td>{'max_depth': 15, 'min_samples_split': 15}</td>\n",
              "    </tr>\n",
              "    <tr>\n",
              "      <th>split0_test_score</th>\n",
              "      <td>0.967033</td>\n",
              "      <td>0.923077</td>\n",
              "      <td>0.912088</td>\n",
              "      <td>0.967033</td>\n",
              "      <td>0.923077</td>\n",
              "      <td>0.912088</td>\n",
              "      <td>0.967033</td>\n",
              "      <td>0.923077</td>\n",
              "      <td>0.912088</td>\n",
              "    </tr>\n",
              "    <tr>\n",
              "      <th>split1_test_score</th>\n",
              "      <td>0.912088</td>\n",
              "      <td>0.901099</td>\n",
              "      <td>0.901099</td>\n",
              "      <td>0.912088</td>\n",
              "      <td>0.901099</td>\n",
              "      <td>0.901099</td>\n",
              "      <td>0.912088</td>\n",
              "      <td>0.901099</td>\n",
              "      <td>0.901099</td>\n",
              "    </tr>\n",
              "    <tr>\n",
              "      <th>split2_test_score</th>\n",
              "      <td>0.923077</td>\n",
              "      <td>0.934066</td>\n",
              "      <td>0.934066</td>\n",
              "      <td>0.923077</td>\n",
              "      <td>0.934066</td>\n",
              "      <td>0.934066</td>\n",
              "      <td>0.923077</td>\n",
              "      <td>0.934066</td>\n",
              "      <td>0.934066</td>\n",
              "    </tr>\n",
              "    <tr>\n",
              "      <th>split3_test_score</th>\n",
              "      <td>0.956044</td>\n",
              "      <td>0.956044</td>\n",
              "      <td>0.945055</td>\n",
              "      <td>0.956044</td>\n",
              "      <td>0.956044</td>\n",
              "      <td>0.945055</td>\n",
              "      <td>0.956044</td>\n",
              "      <td>0.956044</td>\n",
              "      <td>0.945055</td>\n",
              "    </tr>\n",
              "    <tr>\n",
              "      <th>split4_test_score</th>\n",
              "      <td>0.967033</td>\n",
              "      <td>0.967033</td>\n",
              "      <td>0.934066</td>\n",
              "      <td>0.967033</td>\n",
              "      <td>0.967033</td>\n",
              "      <td>0.934066</td>\n",
              "      <td>0.967033</td>\n",
              "      <td>0.967033</td>\n",
              "      <td>0.934066</td>\n",
              "    </tr>\n",
              "    <tr>\n",
              "      <th>mean_test_score</th>\n",
              "      <td>0.945055</td>\n",
              "      <td>0.936264</td>\n",
              "      <td>0.925275</td>\n",
              "      <td>0.945055</td>\n",
              "      <td>0.936264</td>\n",
              "      <td>0.925275</td>\n",
              "      <td>0.945055</td>\n",
              "      <td>0.936264</td>\n",
              "      <td>0.925275</td>\n",
              "    </tr>\n",
              "    <tr>\n",
              "      <th>std_test_score</th>\n",
              "      <td>0.0230507</td>\n",
              "      <td>0.0234661</td>\n",
              "      <td>0.0161505</td>\n",
              "      <td>0.0230507</td>\n",
              "      <td>0.0234661</td>\n",
              "      <td>0.0161505</td>\n",
              "      <td>0.0230507</td>\n",
              "      <td>0.0234661</td>\n",
              "      <td>0.0161505</td>\n",
              "    </tr>\n",
              "    <tr>\n",
              "      <th>rank_test_score</th>\n",
              "      <td>1</td>\n",
              "      <td>4</td>\n",
              "      <td>7</td>\n",
              "      <td>1</td>\n",
              "      <td>4</td>\n",
              "      <td>7</td>\n",
              "      <td>1</td>\n",
              "      <td>4</td>\n",
              "      <td>7</td>\n",
              "    </tr>\n",
              "  </tbody>\n",
              "</table>\n",
              "</div>"
            ],
            "text/plain": [
              "                                                                 0  ...                                           8\n",
              "mean_fit_time                                           0.00518703  ...                                  0.00466342\n",
              "std_fit_time                                            0.00108244  ...                                 0.000156175\n",
              "mean_score_time                                        0.000456476  ...                                 0.000503492\n",
              "std_score_time                                         5.49549e-05  ...                                  0.00011016\n",
              "param_max_depth                                                  5  ...                                          15\n",
              "param_min_samples_split                                         10  ...                                          15\n",
              "params                   {'max_depth': 5, 'min_samples_split': 10}  ...  {'max_depth': 15, 'min_samples_split': 15}\n",
              "split0_test_score                                         0.967033  ...                                    0.912088\n",
              "split1_test_score                                         0.912088  ...                                    0.901099\n",
              "split2_test_score                                         0.923077  ...                                    0.934066\n",
              "split3_test_score                                         0.956044  ...                                    0.945055\n",
              "split4_test_score                                         0.967033  ...                                    0.934066\n",
              "mean_test_score                                           0.945055  ...                                    0.925275\n",
              "std_test_score                                           0.0230507  ...                                   0.0161505\n",
              "rank_test_score                                                  1  ...                                           7\n",
              "\n",
              "[15 rows x 9 columns]"
            ]
          },
          "metadata": {},
          "execution_count": 43
        }
      ]
    },
    {
      "cell_type": "markdown",
      "metadata": {
        "id": "V6mV20bEpwke"
      },
      "source": [
        "さっきより高い値出ている↑"
      ]
    },
    {
      "cell_type": "code",
      "metadata": {
        "colab": {
          "base_uri": "https://localhost:8080/"
        },
        "id": "ulPMe5JfQhno",
        "outputId": "1d0449ab-ddee-4ac4-c59d-08aaa5f2c425"
      },
      "source": [
        "tuned_model.best_params_"
      ],
      "execution_count": 44,
      "outputs": [
        {
          "output_type": "execute_result",
          "data": {
            "text/plain": [
              "{'max_depth': 5, 'min_samples_split': 10}"
            ]
          },
          "metadata": {},
          "execution_count": 44
        }
      ]
    },
    {
      "cell_type": "code",
      "metadata": {
        "id": "LnmNUsjuQhrD"
      },
      "source": [
        "best_model = tuned_model.best_estimator_"
      ],
      "execution_count": 46,
      "outputs": []
    },
    {
      "cell_type": "code",
      "metadata": {
        "colab": {
          "base_uri": "https://localhost:8080/"
        },
        "id": "p7N4CbYmQhum",
        "outputId": "d97c0fed-5ebb-4c7b-dd68-62adb9246dd7"
      },
      "source": [
        "print(best_model.score(x_train_val,t_train_val))\n",
        "print(best_model.score(x_test,t_test))"
      ],
      "execution_count": 47,
      "outputs": [
        {
          "output_type": "stream",
          "text": [
            "0.9934065934065934\n",
            "0.956140350877193\n"
          ],
          "name": "stdout"
        }
      ]
    },
    {
      "cell_type": "code",
      "metadata": {
        "id": "8iZ9MeLFQhx4"
      },
      "source": [
        ""
      ],
      "execution_count": null,
      "outputs": []
    },
    {
      "cell_type": "code",
      "metadata": {
        "id": "hjC_ENOFQh1O"
      },
      "source": [
        ""
      ],
      "execution_count": null,
      "outputs": []
    },
    {
      "cell_type": "code",
      "metadata": {
        "id": "2RA_t1DIQh4V"
      },
      "source": [
        ""
      ],
      "execution_count": null,
      "outputs": []
    },
    {
      "cell_type": "code",
      "metadata": {
        "id": "GTboo2RZQh7s"
      },
      "source": [
        ""
      ],
      "execution_count": null,
      "outputs": []
    },
    {
      "cell_type": "code",
      "metadata": {
        "id": "bisDsQeNQh-1"
      },
      "source": [
        ""
      ],
      "execution_count": null,
      "outputs": []
    },
    {
      "cell_type": "code",
      "metadata": {
        "id": "DMo8at1OQiCL"
      },
      "source": [
        ""
      ],
      "execution_count": null,
      "outputs": []
    },
    {
      "cell_type": "code",
      "metadata": {
        "id": "BOu--i9SQiGB"
      },
      "source": [
        ""
      ],
      "execution_count": null,
      "outputs": []
    }
  ]
}